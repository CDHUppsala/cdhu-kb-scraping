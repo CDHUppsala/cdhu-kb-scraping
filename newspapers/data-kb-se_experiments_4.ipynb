{
 "cells": [
  {
   "cell_type": "markdown",
   "metadata": {},
   "source": [
    "### TODO: Parse wget-script to extract text from XML\n"
   ]
  },
  {
   "cell_type": "code",
   "execution_count": 1,
   "metadata": {},
   "outputs": [
    {
     "name": "stdout",
     "output_type": "stream",
     "text": [
      "mkdir -p 1831/ && wget --continue -O \"1831/Aftonbladet_1831_01_03_bib4345612_18310103_0_s_0001_alto.xml\" https://data.kb.se/dark-38655/bib4345612_18310103_0_s_0001_alto.xml # 187K\n",
      "mkdir -p 1831/ && wget --continue -O \"1831/Aftonbladet_1831_01_03_bib4345612_18310103_0_s_0002_alto.xml\" https://data.kb.se/dark-38655/bib4345612_18310103_0_s_0002_alto.xml # 194K\n",
      "mkdir -p 1831/ && wget --continue -O \"1831/Aftonbladet_1831_01_03_bib4345612_18310103_0_s_0003_alto.xml\" https://data.kb.se/dark-38655/bib4345612_18310103_0_s_0003_alto.xml # 172K\n",
      "mkdir -p 1831/ && wget --continue -O \"1831/Aftonbladet_1831_01_03_bib4345612_18310103_0_s_0004_alto.xml\" https://data.kb.se/dark-38655/bib4345612_18310103_0_s_0004_alto.xml # 197K\n",
      "mkdir -p 1831/ && wget --continue -O \"1831/Aftonbladet_1831_01_03_bib4345612_18310103_0_s.mets.metadata\" https://data.kb.se/dark-38655/bib4345612_18310103_0_s.mets.metadata # 34K\n",
      "mkdir -p 1831/ && wget --continue -O \"1831/Aftonbladet_1831_01_03_representation.jsonld\" https://data.kb.se/dark-38655/representation.jsonld # 1K\n"
     ]
    }
   ],
   "source": [
    "INPUT_FILE = r'wget_aftonbladet.sh'\n",
    "# SET_ONLY_TEXT = True\n",
    "# deactivated = 0\n",
    "count = 0\n",
    "LIMIT = 10\n",
    "#try:\n",
    "with open(INPUT_FILE, 'r') as fp:\n",
    "    for line in fp:\n",
    "        if line[0] != '#':\n",
    "            print(line, end=\"\")\n",
    "        if count == LIMIT:\n",
    "            break\n",
    "        count=count+1\n",
    "                \n"
   ]
  },
  {
   "cell_type": "markdown",
   "metadata": {},
   "source": [
    "The following code works to turn XML into plain text OCR. Can be used to loop over data from previous cell and generate text files."
   ]
  },
  {
   "cell_type": "code",
   "execution_count": null,
   "metadata": {},
   "outputs": [],
   "source": [
    "import codecs\n",
    "import sys\n",
    "import xml.etree.ElementTree as ET\n",
    "from urllib.request import urlopen\n",
    "\n",
    "altourl = 'https://data.kb.se/dark-38655/bib4345612_18310103_0_s_0001_alto.xml'\n",
    "altourl = 'https://data.kb.se/dark-32256/bib4345612_18630811_0_s_0003_alto.xml'\n",
    "\n",
    "\n",
    "if sys.stdout.encoding != 'UTF-8':\n",
    "    sys.stdout = codecs.getwriter('utf-8')(sys.stdout.buffer, 'strict')\n",
    "\n",
    "namespace = {'alto-1': 'http://schema.ccs-gmbh.com/ALTO',\n",
    "             'alto-2': 'http://www.loc.gov/standards/alto/ns-v2#',\n",
    "             'alto-3': 'http://www.loc.gov/standards/alto/ns-v3#',\n",
    "             'alto-mkc': 'http://www.loc.gov/standards/alto/alto-v2.0.xsd'\n",
    "             }\n",
    "#tree = ET.parse(sys.argv[1])\n",
    "\n",
    "with urlopen(altourl) as f:\n",
    "\n",
    "    ## THIS CODE PATCHES THE XML CODE BEFORE PARSING\n",
    "    corrected_tag = b'<alto xmlns=\"http://www.loc.gov/standards/alto/ns-v2#\" xmlns:xlink=\"http://www.w3.org/1999/xlink\" xmlns:xsi=\"http://www.w3.org/2001/XMLSchema-instance\" xsi:schemaLocation=\"http://www.loc.gov/standards/alto/ns-v2# http://www.loc.gov/standards/alto/alto-v2.0.xsd\">\\r\\n'\n",
    "    alto_list = f.readlines()\n",
    "    #print(\"Line to replace: \", alto_list[1])\n",
    "    alto_list[1] = corrected_tag\n",
    "    #print(\"Corrected line: \", alto_list[1])\n",
    "    #print(\"Line to replace: \", alto_list[-1])\n",
    "    alto_list[-1] = b'</alto>\\r\\n'\n",
    "    #print(\"Corrected line: \", alto_list[-1])\n",
    "    ## ## ##\n",
    "\n",
    "    tree = ET.ElementTree(ET.fromstringlist(alto_list))\n",
    "    xmlns = tree.getroot().tag.split('}')[0].strip('{')\n",
    "    if xmlns in namespace.values():\n",
    "        for lines in tree.iterfind('.//{%s}TextLine' % xmlns):\n",
    "            sys.stdout.write('\\n')\n",
    "            for line in lines.findall('{%s}String' % xmlns):\n",
    "                text = line.attrib.get('CONTENT') + ' '\n",
    "                sys.stdout.write(text)\n",
    "    else:\n",
    "        print('ERROR: Not a valid ALTO file (namespace declaration missing)')\n"
   ]
  }
 ],
 "metadata": {
  "interpreter": {
   "hash": "7f572c7b3fed79c41ddbbb5f745e4c0cdf0dde02f3679772a29f9dde99c9384c"
  },
  "kernelspec": {
   "display_name": "Python 3.9.12 ('Webscraping')",
   "language": "python",
   "name": "python3"
  },
  "language_info": {
   "codemirror_mode": {
    "name": "ipython",
    "version": 3
   },
   "file_extension": ".py",
   "mimetype": "text/x-python",
   "name": "python",
   "nbconvert_exporter": "python",
   "pygments_lexer": "ipython3",
   "version": "3.9.12"
  },
  "orig_nbformat": 4
 },
 "nbformat": 4,
 "nbformat_minor": 2
}
